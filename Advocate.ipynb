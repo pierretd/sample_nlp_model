{
  "nbformat": 4,
  "nbformat_minor": 0,
  "metadata": {
    "colab": {
      "name": "Advocate.ipynb",
      "provenance": []
    },
    "language_info": {
      "codemirror_mode": {
        "name": "ipython",
        "version": 3
      },
      "file_extension": ".py",
      "mimetype": "text/x-python",
      "name": "python",
      "nbconvert_exporter": "python",
      "pygments_lexer": "ipython3",
      "version": "3.7.3"
    },
    "kernelspec": {
      "display_name": "Python 3",
      "language": "python",
      "name": "python3"
    }
  },
  "cells": [
    {
      "cell_type": "markdown",
      "metadata": {
        "id": "IVQMPCV5i6c_"
      },
      "source": [
        "# Whisky Advocate\n",
        "## *Insights from Reviews*\n",
        "\n",
        "What makes a great whiskey? It is a smoky flavor? It is peaty? Is it something else?\n",
        "\n",
        "There isn't a single truth of a great whisky, because tastes vary so much from person to person. However, we can analyze the reviews of experts to see if we can detect patterns in the flavor profiles of 'great' whiskys.\n",
        "\n",
        "Today, you'll see the following things operationalized in python to study great whiskys:\n",
        "* [Web Scraping](#web)\n",
        "* [Data Exploration](#explore)\n",
        "* [Machine Learning](#ml)\n",
        "* [Data Visualization](#viz)\n"
      ]
    },
    {
      "cell_type": "markdown",
      "metadata": {
        "id": "hh2k1AsXi6dD",
        "inputHidden": false,
        "outputHidden": false
      },
      "source": [
        "<a id=\"web\"></a>\n",
        "## Web Scraping\n",
        "To gather our review data to understand great whiskeys, we will *scrape* [Whisky Advocate's](http://whiskeyadvocate.com) over 4,00 reviews. We will use python to access the reviews on the web and extract the relevant information from directly from the site's `html`."
      ]
    },
    {
      "cell_type": "code",
      "metadata": {
        "id": "HMAUZNksi6dF",
        "inputHidden": false,
        "outputHidden": false
      },
      "source": [
        "import pandas as pd\n",
        "import requests\n",
        "from bs4 import BeautifulSoup"
      ],
      "execution_count": 1,
      "outputs": []
    },
    {
      "cell_type": "code",
      "metadata": {
        "id": "-FE55JDni6dM",
        "inputHidden": false,
        "outputHidden": false
      },
      "source": [
        "score_range = ['95-100', '90-94', '80-89', '70-79', '60-69']"
      ],
      "execution_count": 2,
      "outputs": []
    },
    {
      "cell_type": "code",
      "metadata": {
        "id": "2csIR_Z9i6dQ",
        "inputHidden": false,
        "outputHidden": false
      },
      "source": [
        "url = \"http://whiskyadvocate.com/ratings-reviews/?search=&submit=&brand_id=0&rating={}&price=0&category=0&styles_id=0&issue_id=0\""
      ],
      "execution_count": 3,
      "outputs": []
    },
    {
      "cell_type": "code",
      "metadata": {
        "id": "RXawTmmXi6df",
        "inputHidden": false,
        "outputHidden": false
      },
      "source": [
        "urls = [url.format(score) for score in score_range]"
      ],
      "execution_count": 4,
      "outputs": []
    },
    {
      "cell_type": "code",
      "metadata": {
        "id": "opaWbyoei6dm",
        "inputHidden": false,
        "outputHidden": false
      },
      "source": [
        "tags = ['ratingValue', 'name', 'category', 'priceCurrency', \n",
        " 'price', 'description', 'author']\n",
        "\n",
        "def get_review(review):\n",
        "    data = {}\n",
        "    for t in tags:\n",
        "        data[t] = review.find(itemprop=t).text\n",
        "\n",
        "    return data\n",
        "\n",
        "def whiskey(urls):\n",
        "    \n",
        "    whiskey_reviews = list()\n",
        "    \n",
        "    for u in urls:\n",
        "        r = requests.get(u)\n",
        "        \n",
        "        soup = BeautifulSoup(r.text, \"lxml\")\n",
        "        ratings = soup.find(class_=\"ratings-grid-holder\")\n",
        "        \n",
        "        ratings = ratings.find_all(\"article\")\n",
        "        \n",
        "        reviews = [get_review(r) for r in ratings]\n",
        "        \n",
        "        whiskey_reviews += reviews\n",
        "    \n",
        "    return whiskey_reviews"
      ],
      "execution_count": 5,
      "outputs": []
    },
    {
      "cell_type": "code",
      "metadata": {
        "id": "JX5DyPhqi6ds",
        "inputHidden": false,
        "outputHidden": false
      },
      "source": [
        "data = whiskey(urls)"
      ],
      "execution_count": 6,
      "outputs": []
    },
    {
      "cell_type": "code",
      "metadata": {
        "id": "8IX_gxMDi6dy",
        "inputHidden": false,
        "outputHidden": false,
        "colab": {
          "base_uri": "https://localhost:8080/"
        },
        "outputId": "d6a9b811-d4d1-4cfe-e398-23baa136d644"
      },
      "source": [
        "data[42]"
      ],
      "execution_count": 7,
      "outputs": [
        {
          "output_type": "execute_result",
          "data": {
            "text/plain": [
              "{'author': 'John Hansell',\n",
              " 'category': 'Single Malt Scotch',\n",
              " 'description': '\\nThe Dalmore is one of a handful of whiskies that seem to be able to age in the cask for many decades and still improve. This one is incredibly viscous on the nose and palate (and very heavy on the tongue), with chewy toffee and old pot still rum. The classic Dalmore marmalade note shines throughout, along with vanilla cream, an array of dried spices (especially cinnamon and evergreen), juicy oak, forest bedding, rancio, old armagnac, polished leather, tobacco, maple syrup, dark chocolate, almond macaroon, and subtle espresso. Long, mouth-coating finish. The flavors evolve like waves lapping on the palate -- especially the interplay with the oak. I can’t drink this whisky slowly enough. A rare experience for the lucky few who can afford it. (Price is per 100ml.)',\n",
              " 'name': 'The Dalmore 50 year old, 52.8%',\n",
              " 'price': '1,500',\n",
              " 'priceCurrency': '$',\n",
              " 'ratingValue': '96'}"
            ]
          },
          "metadata": {},
          "execution_count": 7
        }
      ]
    },
    {
      "cell_type": "markdown",
      "metadata": {
        "id": "Jlvo-qfEi6eQ",
        "inputHidden": false,
        "outputHidden": false
      },
      "source": [
        "<a id=\"explore\"></a>\n",
        "## Data Exploration"
      ]
    },
    {
      "cell_type": "code",
      "metadata": {
        "id": "TUS27FBqi6eR",
        "inputHidden": false,
        "outputHidden": false
      },
      "source": [
        "df = pd.DataFrame.from_records(data)"
      ],
      "execution_count": 8,
      "outputs": []
    },
    {
      "cell_type": "code",
      "metadata": {
        "id": "htnXP32Pi6ev",
        "inputHidden": false,
        "outputHidden": false,
        "colab": {
          "base_uri": "https://localhost:8080/",
          "height": 205
        },
        "outputId": "f59f8c12-734f-41cb-df87-0064fc7a0f70"
      },
      "source": [
        "df.head()"
      ],
      "execution_count": 9,
      "outputs": [
        {
          "output_type": "execute_result",
          "data": {
            "text/html": [
              "<div>\n",
              "<style scoped>\n",
              "    .dataframe tbody tr th:only-of-type {\n",
              "        vertical-align: middle;\n",
              "    }\n",
              "\n",
              "    .dataframe tbody tr th {\n",
              "        vertical-align: top;\n",
              "    }\n",
              "\n",
              "    .dataframe thead th {\n",
              "        text-align: right;\n",
              "    }\n",
              "</style>\n",
              "<table border=\"1\" class=\"dataframe\">\n",
              "  <thead>\n",
              "    <tr style=\"text-align: right;\">\n",
              "      <th></th>\n",
              "      <th>ratingValue</th>\n",
              "      <th>name</th>\n",
              "      <th>category</th>\n",
              "      <th>priceCurrency</th>\n",
              "      <th>price</th>\n",
              "      <th>description</th>\n",
              "      <th>author</th>\n",
              "    </tr>\n",
              "  </thead>\n",
              "  <tbody>\n",
              "    <tr>\n",
              "      <th>0</th>\n",
              "      <td>97</td>\n",
              "      <td>Midleton Very Rare Silent Distillery Chapter 2...</td>\n",
              "      <td>Irish Single Pot Still</td>\n",
              "      <td>$</td>\n",
              "      <td>45,000</td>\n",
              "      <td>\\n\\nGive this an hour to unfurl; the nose reve...</td>\n",
              "      <td>Jonny McCormick</td>\n",
              "    </tr>\n",
              "    <tr>\n",
              "      <th>1</th>\n",
              "      <td>97</td>\n",
              "      <td>Johnnie Walker Blue Label, 40%</td>\n",
              "      <td>Blended Scotch Whisky</td>\n",
              "      <td>$</td>\n",
              "      <td>225</td>\n",
              "      <td>\\nMagnificently powerful and intense. Caramels...</td>\n",
              "      <td>Jonny McCormick</td>\n",
              "    </tr>\n",
              "    <tr>\n",
              "      <th>2</th>\n",
              "      <td>97</td>\n",
              "      <td>Four Roses Limited Edition Small Batch (2013 R...</td>\n",
              "      <td>Bourbon/Tennessee</td>\n",
              "      <td>$</td>\n",
              "      <td>85</td>\n",
              "      <td>\\nA marriage of 13 and 18 year old bourbons. A...</td>\n",
              "      <td>John Hansell</td>\n",
              "    </tr>\n",
              "    <tr>\n",
              "      <th>3</th>\n",
              "      <td>97</td>\n",
              "      <td>Bowmore 46 year old (distilled 1964), 42.9%</td>\n",
              "      <td>Single Malt Scotch</td>\n",
              "      <td>$</td>\n",
              "      <td>13500</td>\n",
              "      <td>\\nThere have been some legendary Bowmores from...</td>\n",
              "      <td>Dave Broom</td>\n",
              "    </tr>\n",
              "    <tr>\n",
              "      <th>4</th>\n",
              "      <td>97</td>\n",
              "      <td>Parker's Heritage Collection, 'Golden Annivers...</td>\n",
              "      <td>Bourbon/Tennessee</td>\n",
              "      <td>$</td>\n",
              "      <td>150.00</td>\n",
              "      <td>\\nThis bottling celebrates master distiller Pa...</td>\n",
              "      <td>John Hansell</td>\n",
              "    </tr>\n",
              "  </tbody>\n",
              "</table>\n",
              "</div>"
            ],
            "text/plain": [
              "  ratingValue  ...           author\n",
              "0          97  ...  Jonny McCormick\n",
              "1          97  ...  Jonny McCormick\n",
              "2          97  ...     John Hansell\n",
              "3          97  ...       Dave Broom\n",
              "4          97  ...     John Hansell\n",
              "\n",
              "[5 rows x 7 columns]"
            ]
          },
          "metadata": {},
          "execution_count": 9
        }
      ]
    },
    {
      "cell_type": "code",
      "metadata": {
        "id": "y3aXC4T1i6e2",
        "inputHidden": false,
        "outputHidden": false,
        "colab": {
          "base_uri": "https://localhost:8080/"
        },
        "outputId": "e0e5ce23-969d-4670-c1eb-5665b4b522a0"
      },
      "source": [
        "df.shape[0]"
      ],
      "execution_count": 10,
      "outputs": [
        {
          "output_type": "execute_result",
          "data": {
            "text/plain": [
              "6042"
            ]
          },
          "metadata": {},
          "execution_count": 10
        }
      ]
    },
    {
      "cell_type": "code",
      "metadata": {
        "id": "mOhGSg-Pi6e6",
        "inputHidden": false,
        "outputHidden": false,
        "colab": {
          "base_uri": "https://localhost:8080/"
        },
        "outputId": "6100b8b2-f5a9-49e6-fc47-af3d351a8f48"
      },
      "source": [
        "df['ratingValue'].astype('int').describe()"
      ],
      "execution_count": 11,
      "outputs": [
        {
          "output_type": "execute_result",
          "data": {
            "text/plain": [
              "count    6042.000000\n",
              "mean       87.408805\n",
              "std         4.462655\n",
              "min        60.000000\n",
              "25%        85.000000\n",
              "50%        88.000000\n",
              "75%        91.000000\n",
              "max        97.000000\n",
              "Name: ratingValue, dtype: float64"
            ]
          },
          "metadata": {},
          "execution_count": 11
        }
      ]
    },
    {
      "cell_type": "code",
      "metadata": {
        "id": "CJ9OxPrti6fD",
        "inputHidden": false,
        "outputHidden": false,
        "colab": {
          "base_uri": "https://localhost:8080/"
        },
        "outputId": "c552b9e2-4871-4cda-bec8-85a79d90f504"
      },
      "source": [
        "df['category'].value_counts()"
      ],
      "execution_count": 12,
      "outputs": [
        {
          "output_type": "execute_result",
          "data": {
            "text/plain": [
              "Single Malt Scotch                  2217\n",
              "Bourbon/Tennessee                   1035\n",
              "Rye Whiskey                          379\n",
              "Blended Scotch Whisky                296\n",
              "Canadian                             276\n",
              "Blended Malt Scotch Whisky           194\n",
              "American Whiskey                     151\n",
              "Japanese Whisky                      131\n",
              "Single Malt American Whiskey         120\n",
              "Blended Irish Whiskey                119\n",
              "Single Grain Scotch                  108\n",
              "Irish                                108\n",
              "Irish Single Malt                     79\n",
              "Flavored Whisky & Liqueurs            66\n",
              "Indian Whisky                         54\n",
              "Irish Single Pot Still                53\n",
              "French Whisky                         51\n",
              "Single Malt Swedish Whisky            50\n",
              "Australian Whisky                     46\n",
              "World Whisky                          45\n",
              "White Whiskey                         44\n",
              "Blended American Whiskey              35\n",
              "Single Malt English Whisky            34\n",
              "Wheat Whiskey                         32\n",
              "Taiwanese Whisky                      32\n",
              "Miscellaneous                         32\n",
              "Welsh Whisky                          24\n",
              "Multinational Whisky                  18\n",
              "American Malt Whiskey                 16\n",
              "Belgian Whisky                        14\n",
              "Danish                                14\n",
              "Corn Whiskey                          13\n",
              "Japanese Rice Whisky                  13\n",
              "Austrian Whisky                       11\n",
              "New Zealand                           11\n",
              "Swiss                                 11\n",
              "Dutch                                 10\n",
              "Japanese Single Malt                   9\n",
              "Single Grain Irish Whiskey             9\n",
              "Single Malt French Whisky              9\n",
              "Blended Grain Scotch Whisky            9\n",
              "Spanish Whisky                         8\n",
              "Unspecified Single Malt                7\n",
              "Italian                                6\n",
              "Icelandic Whisky and Malt Spirit       5\n",
              "English Blended Whisky                 5\n",
              "Single Malt Finnish Whisky             5\n",
              "South African Whisky                   5\n",
              "Liechtenstein                          4\n",
              "Poitín                                 3\n",
              "English Grain Whisky & Spirit          3\n",
              "Blended French Whisky                  3\n",
              "Blended Japanese Whisky                2\n",
              "Single Malt Belgian Whisky             2\n",
              "Single Grain Belgian Whisky            1\n",
              "Japanese Grain Whisky                  1\n",
              "Light Whiskey                          1\n",
              "Netherlands Whisky                     1\n",
              "Bhutanese Whisky                       1\n",
              "Blended Belgian Whisky                 1\n",
              "Name: category, dtype: int64"
            ]
          },
          "metadata": {},
          "execution_count": 12
        }
      ]
    },
    {
      "cell_type": "code",
      "metadata": {
        "id": "Inlt4nUWi6fK",
        "inputHidden": false,
        "outputHidden": false,
        "colab": {
          "base_uri": "https://localhost:8080/"
        },
        "outputId": "d2008ab7-5690-44d6-ac22-e261d3dab08d"
      },
      "source": [
        "df['price'].head()"
      ],
      "execution_count": 13,
      "outputs": [
        {
          "output_type": "execute_result",
          "data": {
            "text/plain": [
              "0    45,000\n",
              "1       225\n",
              "2        85\n",
              "3     13500\n",
              "4    150.00\n",
              "Name: price, dtype: object"
            ]
          },
          "metadata": {},
          "execution_count": 13
        }
      ]
    },
    {
      "cell_type": "code",
      "metadata": {
        "id": "xmRk2D3Ii6fQ",
        "inputHidden": false,
        "outputHidden": true
      },
      "source": [
        "df['p2'] = df['price'].astype('str').replace(\",\",\"\").replace(\"$\", \"\")"
      ],
      "execution_count": 14,
      "outputs": []
    },
    {
      "cell_type": "code",
      "metadata": {
        "id": "Dz0VKD7RZlKe",
        "colab": {
          "base_uri": "https://localhost:8080/"
        },
        "outputId": "3c4c369a-e5d8-4340-913f-123010a808c9"
      },
      "source": [
        "df['p2'].head()"
      ],
      "execution_count": 15,
      "outputs": [
        {
          "output_type": "execute_result",
          "data": {
            "text/plain": [
              "0    45,000\n",
              "1       225\n",
              "2        85\n",
              "3     13500\n",
              "4    150.00\n",
              "Name: p2, dtype: object"
            ]
          },
          "metadata": {},
          "execution_count": 15
        }
      ]
    },
    {
      "cell_type": "code",
      "metadata": {
        "id": "bat_45dri6fb",
        "inputHidden": false,
        "outputHidden": true,
        "colab": {
          "base_uri": "https://localhost:8080/"
        },
        "outputId": "5a5ce83e-b4ce-4e3a-ed3b-9ccfb02d032c"
      },
      "source": [
        "df['p2'].str.replace(\"$\", \"\").str.replace(\"/set\",\"\").astype('str')"
      ],
      "execution_count": 16,
      "outputs": [
        {
          "output_type": "execute_result",
          "data": {
            "text/plain": [
              "0       45,000\n",
              "1          225\n",
              "2           85\n",
              "3        13500\n",
              "4       150.00\n",
              "         ...  \n",
              "6037        17\n",
              "6038        35\n",
              "6039     60.00\n",
              "6040        50\n",
              "6041        30\n",
              "Name: p2, Length: 6042, dtype: object"
            ]
          },
          "metadata": {},
          "execution_count": 16
        }
      ]
    },
    {
      "cell_type": "code",
      "metadata": {
        "id": "W36AnxHVi6fV",
        "inputHidden": false,
        "outputHidden": false
      },
      "source": [
        "df['p2'] = pd.to_numeric(df['p2'], errors='coerce')"
      ],
      "execution_count": 17,
      "outputs": []
    },
    {
      "cell_type": "code",
      "metadata": {
        "id": "CwwVMZlGi6fh",
        "inputHidden": false,
        "outputHidden": false
      },
      "source": [
        "df['price'] = pd.to_numeric(df['price'], errors='coerce')"
      ],
      "execution_count": 18,
      "outputs": []
    },
    {
      "cell_type": "code",
      "metadata": {
        "id": "RLjHAH-VZlKw",
        "colab": {
          "base_uri": "https://localhost:8080/"
        },
        "outputId": "d318ca17-4496-4e69-ab33-4282ead165b7"
      },
      "source": [
        "df['price'].sort_values( ascending=False)"
      ],
      "execution_count": 19,
      "outputs": [
        {
          "output_type": "execute_result",
          "data": {
            "text/plain": [
              "523     157000.0\n",
              "103      26650.0\n",
              "1333     23427.0\n",
              "3251     14999.0\n",
              "3        13500.0\n",
              "          ...   \n",
              "5723         NaN\n",
              "5804         NaN\n",
              "5900         NaN\n",
              "5939         NaN\n",
              "5993         NaN\n",
              "Name: price, Length: 6042, dtype: float64"
            ]
          },
          "metadata": {},
          "execution_count": 19
        }
      ]
    },
    {
      "cell_type": "code",
      "metadata": {
        "id": "Py7j6DYLi6fk",
        "inputHidden": false,
        "outputHidden": false,
        "scrolled": true,
        "colab": {
          "base_uri": "https://localhost:8080/",
          "height": 300
        },
        "outputId": "a4ca602a-fc2b-42ed-cbd3-6bec20d0c07c"
      },
      "source": [
        "import seaborn as sns\n",
        "from locale import atof\n",
        "\n",
        "#df['price'] = df['price'].apply(atof)\n",
        "sns.regplot(x=df[df['price'] < 20000]['ratingValue'].astype('float'), y=df[df['price'] < 20000]['price'])"
      ],
      "execution_count": null,
      "outputs": [
        {
          "output_type": "execute_result",
          "data": {
            "text/plain": [
              "<matplotlib.axes._subplots.AxesSubplot at 0x7f2363342400>"
            ]
          },
          "metadata": {
            "tags": []
          },
          "execution_count": 20
        },
        {
          "output_type": "display_data",
          "data": {
            "image/png": "[encoded data removed]",
            "text/plain": [
              "<Figure size 432x288 with 1 Axes>"
            ]
          },
          "metadata": {
            "tags": []
          }
        }
      ]
    },
    {
      "cell_type": "code",
      "metadata": {
        "id": "N9wwvEy_i6fx",
        "inputHidden": false,
        "outputHidden": false
      },
      "source": [
        "df['pert_alcohol'] = df['name'].apply(lambda x: x.split()[-1][:-1])"
      ],
      "execution_count": 20,
      "outputs": []
    },
    {
      "cell_type": "code",
      "metadata": {
        "id": "own-R8sMZlK5",
        "colab": {
          "base_uri": "https://localhost:8080/"
        },
        "outputId": "5f3746b1-feb1-4c1d-dc85-56f10fa324d9"
      },
      "source": [
        "df['pert_alcohol'].head()"
      ],
      "execution_count": 21,
      "outputs": [
        {
          "output_type": "execute_result",
          "data": {
            "text/plain": [
              "0    53.6\n",
              "1      40\n",
              "2    51.5\n",
              "3    42.9\n",
              "4      50\n",
              "Name: pert_alcohol, dtype: object"
            ]
          },
          "metadata": {},
          "execution_count": 21
        }
      ]
    },
    {
      "cell_type": "code",
      "metadata": {
        "id": "O3awwU4li6f0",
        "inputHidden": false,
        "outputHidden": false
      },
      "source": [
        "df['pert_alcohol'] = pd.to_numeric(df['pert_alcohol'], errors='coerce')"
      ],
      "execution_count": 22,
      "outputs": []
    },
    {
      "cell_type": "code",
      "metadata": {
        "id": "iXUU4aCMZlK-",
        "colab": {
          "base_uri": "https://localhost:8080/"
        },
        "outputId": "ad0bb41b-cf50-4480-f240-57064cd23976"
      },
      "source": [
        "df['pert_alcohol'].head()"
      ],
      "execution_count": 23,
      "outputs": [
        {
          "output_type": "execute_result",
          "data": {
            "text/plain": [
              "0    53.6\n",
              "1    40.0\n",
              "2    51.5\n",
              "3    42.9\n",
              "4    50.0\n",
              "Name: pert_alcohol, dtype: float64"
            ]
          },
          "metadata": {},
          "execution_count": 23
        }
      ]
    },
    {
      "cell_type": "code",
      "metadata": {
        "id": "h6AhU7L0i6f3",
        "inputHidden": false,
        "outputHidden": false
      },
      "source": [
        "def  is_it_perct(name):\n",
        "    #print(name)\n",
        "    last_seg = name.split()[-1]\n",
        "    if last_seg[-1:] == \"%\":\n",
        "        return last_seg[:-1]\n",
        "    else:\n",
        "        return None"
      ],
      "execution_count": 24,
      "outputs": []
    },
    {
      "cell_type": "code",
      "metadata": {
        "id": "ktA9A5OQi6f7",
        "inputHidden": false,
        "outputHidden": false
      },
      "source": [
        "df.loc[df['name'].isnull(), 'name'] = 'Bunnahabhain'"
      ],
      "execution_count": 25,
      "outputs": []
    },
    {
      "cell_type": "code",
      "metadata": {
        "id": "Nn2qQlxJi6gJ",
        "inputHidden": false,
        "outputHidden": false
      },
      "source": [
        "df['pert_alcohol'] = df['name'].apply(is_it_perct)\n",
        "df['pert_alcohol'] = pd.to_numeric(df['pert_alcohol'], errors='coerce')"
      ],
      "execution_count": 26,
      "outputs": []
    },
    {
      "cell_type": "code",
      "metadata": {
        "id": "LD-HcwjiZlLK",
        "colab": {
          "base_uri": "https://localhost:8080/"
        },
        "outputId": "5ada2d3c-32d9-4672-a90f-91afd665e627"
      },
      "source": [
        "df['pert_alcohol'].head()"
      ],
      "execution_count": 27,
      "outputs": [
        {
          "output_type": "execute_result",
          "data": {
            "text/plain": [
              "0    53.6\n",
              "1    40.0\n",
              "2    51.5\n",
              "3    42.9\n",
              "4    50.0\n",
              "Name: pert_alcohol, dtype: float64"
            ]
          },
          "metadata": {},
          "execution_count": 27
        }
      ]
    },
    {
      "cell_type": "code",
      "metadata": {
        "id": "8Xx6yGNsi6gM",
        "inputHidden": false,
        "outputHidden": false,
        "colab": {
          "base_uri": "https://localhost:8080/",
          "height": 205
        },
        "outputId": "5cc0ef50-ea55-4d27-b93d-816e83c7f818"
      },
      "source": [
        "df.head()"
      ],
      "execution_count": 28,
      "outputs": [
        {
          "output_type": "execute_result",
          "data": {
            "text/html": [
              "<div>\n",
              "<style scoped>\n",
              "    .dataframe tbody tr th:only-of-type {\n",
              "        vertical-align: middle;\n",
              "    }\n",
              "\n",
              "    .dataframe tbody tr th {\n",
              "        vertical-align: top;\n",
              "    }\n",
              "\n",
              "    .dataframe thead th {\n",
              "        text-align: right;\n",
              "    }\n",
              "</style>\n",
              "<table border=\"1\" class=\"dataframe\">\n",
              "  <thead>\n",
              "    <tr style=\"text-align: right;\">\n",
              "      <th></th>\n",
              "      <th>ratingValue</th>\n",
              "      <th>name</th>\n",
              "      <th>category</th>\n",
              "      <th>priceCurrency</th>\n",
              "      <th>price</th>\n",
              "      <th>description</th>\n",
              "      <th>author</th>\n",
              "      <th>p2</th>\n",
              "      <th>pert_alcohol</th>\n",
              "    </tr>\n",
              "  </thead>\n",
              "  <tbody>\n",
              "    <tr>\n",
              "      <th>0</th>\n",
              "      <td>97</td>\n",
              "      <td>Midleton Very Rare Silent Distillery Chapter 2...</td>\n",
              "      <td>Irish Single Pot Still</td>\n",
              "      <td>$</td>\n",
              "      <td>NaN</td>\n",
              "      <td>\\n\\nGive this an hour to unfurl; the nose reve...</td>\n",
              "      <td>Jonny McCormick</td>\n",
              "      <td>NaN</td>\n",
              "      <td>53.6</td>\n",
              "    </tr>\n",
              "    <tr>\n",
              "      <th>1</th>\n",
              "      <td>97</td>\n",
              "      <td>Johnnie Walker Blue Label, 40%</td>\n",
              "      <td>Blended Scotch Whisky</td>\n",
              "      <td>$</td>\n",
              "      <td>225.0</td>\n",
              "      <td>\\nMagnificently powerful and intense. Caramels...</td>\n",
              "      <td>Jonny McCormick</td>\n",
              "      <td>225.0</td>\n",
              "      <td>40.0</td>\n",
              "    </tr>\n",
              "    <tr>\n",
              "      <th>2</th>\n",
              "      <td>97</td>\n",
              "      <td>Four Roses Limited Edition Small Batch (2013 R...</td>\n",
              "      <td>Bourbon/Tennessee</td>\n",
              "      <td>$</td>\n",
              "      <td>85.0</td>\n",
              "      <td>\\nA marriage of 13 and 18 year old bourbons. A...</td>\n",
              "      <td>John Hansell</td>\n",
              "      <td>85.0</td>\n",
              "      <td>51.5</td>\n",
              "    </tr>\n",
              "    <tr>\n",
              "      <th>3</th>\n",
              "      <td>97</td>\n",
              "      <td>Bowmore 46 year old (distilled 1964), 42.9%</td>\n",
              "      <td>Single Malt Scotch</td>\n",
              "      <td>$</td>\n",
              "      <td>13500.0</td>\n",
              "      <td>\\nThere have been some legendary Bowmores from...</td>\n",
              "      <td>Dave Broom</td>\n",
              "      <td>13500.0</td>\n",
              "      <td>42.9</td>\n",
              "    </tr>\n",
              "    <tr>\n",
              "      <th>4</th>\n",
              "      <td>97</td>\n",
              "      <td>Parker's Heritage Collection, 'Golden Annivers...</td>\n",
              "      <td>Bourbon/Tennessee</td>\n",
              "      <td>$</td>\n",
              "      <td>150.0</td>\n",
              "      <td>\\nThis bottling celebrates master distiller Pa...</td>\n",
              "      <td>John Hansell</td>\n",
              "      <td>150.0</td>\n",
              "      <td>50.0</td>\n",
              "    </tr>\n",
              "  </tbody>\n",
              "</table>\n",
              "</div>"
            ],
            "text/plain": [
              "  ratingValue  ... pert_alcohol\n",
              "0          97  ...         53.6\n",
              "1          97  ...         40.0\n",
              "2          97  ...         51.5\n",
              "3          97  ...         42.9\n",
              "4          97  ...         50.0\n",
              "\n",
              "[5 rows x 9 columns]"
            ]
          },
          "metadata": {},
          "execution_count": 28
        }
      ]
    },
    {
      "cell_type": "code",
      "metadata": {
        "id": "v0Ll3QH_i6gT",
        "inputHidden": false,
        "outputHidden": false,
        "colab": {
          "base_uri": "https://localhost:8080/"
        },
        "outputId": "180eaa13-8811-4ac3-b2e8-99d73b462b5c"
      },
      "source": [
        "df['pert_alcohol'].describe()"
      ],
      "execution_count": 29,
      "outputs": [
        {
          "output_type": "execute_result",
          "data": {
            "text/plain": [
              "count    5975.000000\n",
              "mean       47.811698\n",
              "std         6.434841\n",
              "min        17.000000\n",
              "25%        43.000000\n",
              "50%        46.000000\n",
              "75%        51.000000\n",
              "max        79.900000\n",
              "Name: pert_alcohol, dtype: float64"
            ]
          },
          "metadata": {},
          "execution_count": 29
        }
      ]
    },
    {
      "cell_type": "code",
      "metadata": {
        "id": "H40g7NOOi6gZ",
        "inputHidden": false,
        "outputHidden": false,
        "colab": {
          "base_uri": "https://localhost:8080/",
          "height": 301
        },
        "outputId": "b10aad78-4f63-4cdd-ce55-597d9ec978d2"
      },
      "source": [
        "import seaborn as sns\n",
        "sns.distplot(df[-df['pert_alcohol'].isnull()]['pert_alcohol'], bins=30)"
      ],
      "execution_count": null,
      "outputs": [
        {
          "output_type": "execute_result",
          "data": {
            "text/plain": [
              "<matplotlib.axes._subplots.AxesSubplot at 0x7f2360a76710>"
            ]
          },
          "metadata": {
            "tags": []
          },
          "execution_count": 31
        },
        {
          "output_type": "display_data",
          "data": {
            "image/png": "[encoded data removed]",
            "text/plain": [
              "<Figure size 432x288 with 1 Axes>"
            ]
          },
          "metadata": {
            "tags": []
          }
        }
      ]
    },
    {
      "cell_type": "code",
      "metadata": {
        "id": "5KlAAK8rZlLY"
      },
      "source": [
        "import numpy as np\n",
        "df['ratingValueLn'] = np.log(df['ratingValue'].astype('float'))"
      ],
      "execution_count": 30,
      "outputs": []
    },
    {
      "cell_type": "code",
      "metadata": {
        "id": "Es-b2PjVZlLa",
        "colab": {
          "base_uri": "https://localhost:8080/",
          "height": 300
        },
        "outputId": "31c42779-db8d-4dd4-bef8-b17968fd9ec8"
      },
      "source": [
        "sns.distplot(df['ratingValueLn'].astype('float'), bins=10)"
      ],
      "execution_count": null,
      "outputs": [
        {
          "output_type": "execute_result",
          "data": {
            "text/plain": [
              "<matplotlib.axes._subplots.AxesSubplot at 0x7f236065f7f0>"
            ]
          },
          "metadata": {
            "tags": []
          },
          "execution_count": 35
        },
        {
          "output_type": "display_data",
          "data": {
            "image/png": "[encoded data removed]",
            "text/plain": [
              "<Figure size 432x288 with 1 Axes>"
            ]
          },
          "metadata": {
            "tags": []
          }
        }
      ]
    },
    {
      "cell_type": "code",
      "metadata": {
        "id": "tleCpTM8ZlLd"
      },
      "source": [
        "from sklearn.preprocessing import MaxAbsScaler"
      ],
      "execution_count": 31,
      "outputs": []
    },
    {
      "cell_type": "code",
      "metadata": {
        "id": "xI2ubHldZlLg"
      },
      "source": [
        "scaler = MaxAbsScaler()"
      ],
      "execution_count": 32,
      "outputs": []
    },
    {
      "cell_type": "code",
      "metadata": {
        "id": "sjDuo5s_ZlLj"
      },
      "source": [
        "x = df['ratingValue'].values"
      ],
      "execution_count": 33,
      "outputs": []
    },
    {
      "cell_type": "code",
      "metadata": {
        "id": "sK4tr6HOZlLl"
      },
      "source": [
        "x =x.reshape(-1, 1)"
      ],
      "execution_count": 34,
      "outputs": []
    },
    {
      "cell_type": "code",
      "metadata": {
        "id": "utmzGkTDZlLo"
      },
      "source": [
        "df['ratingValueScaled'] = scaler.fit_transform(x)"
      ],
      "execution_count": 35,
      "outputs": []
    },
    {
      "cell_type": "code",
      "metadata": {
        "id": "bF7j4j17ZlLs"
      },
      "source": [
        "df['ratingValueScaled'] = df['ratingValueScaled']"
      ],
      "execution_count": 36,
      "outputs": []
    },
    {
      "cell_type": "code",
      "metadata": {
        "id": "D57D9-I3i6gf",
        "inputHidden": false,
        "outputHidden": false,
        "colab": {
          "base_uri": "https://localhost:8080/",
          "height": 300
        },
        "outputId": "b4b68801-20af-473a-8062-73477bab3512"
      },
      "source": [
        "sns.distplot(df['ratingValue'].astype('float'), bins=10)"
      ],
      "execution_count": null,
      "outputs": [
        {
          "output_type": "execute_result",
          "data": {
            "text/plain": [
              "<matplotlib.axes._subplots.AxesSubplot at 0x7f235eb16b00>"
            ]
          },
          "metadata": {
            "tags": []
          },
          "execution_count": 50
        },
        {
          "output_type": "display_data",
          "data": {
            "image/png": "[encoded data removed]",
            "text/plain": [
              "<Figure size 432x288 with 1 Axes>"
            ]
          },
          "metadata": {
            "tags": []
          }
        }
      ]
    },
    {
      "cell_type": "code",
      "metadata": {
        "id": "g7El6PXaZlLx",
        "colab": {
          "base_uri": "https://localhost:8080/",
          "height": 300
        },
        "outputId": "a617d3e1-ef8a-47dc-92ab-778afe10e629"
      },
      "source": [
        "sns.distplot(df['ratingValueScaled'].astype('float'), bins=10)"
      ],
      "execution_count": null,
      "outputs": [
        {
          "output_type": "execute_result",
          "data": {
            "text/plain": [
              "<matplotlib.axes._subplots.AxesSubplot at 0x7f235e9c3828>"
            ]
          },
          "metadata": {
            "tags": []
          },
          "execution_count": 52
        },
        {
          "output_type": "display_data",
          "data": {
            "image/png": "[encoded data removed]",
            "text/plain": [
              "<Figure size 432x288 with 1 Axes>"
            ]
          },
          "metadata": {
            "tags": []
          }
        }
      ]
    },
    {
      "cell_type": "code",
      "metadata": {
        "id": "fg1I1da8i6gl",
        "inputHidden": false,
        "outputHidden": false,
        "colab": {
          "base_uri": "https://localhost:8080/",
          "height": 400
        },
        "outputId": "bafd032b-9923-40c0-d675-fbba8ae31d0b"
      },
      "source": [
        "import numpy as np\n",
        "import matplotlib.pyplot as plt\n",
        "\n",
        "types = df['category'].value_counts()[:9]\n",
        "\n",
        "height = types.tolist()\n",
        "bars = types.index.tolist()\n",
        "y_pos = np.arange(len(bars))\n",
        "\n",
        "plt.bar(y_pos, height)\n",
        "plt.xticks(y_pos, bars, rotation='vertical')\n",
        "\n",
        "plt.show()"
      ],
      "execution_count": null,
      "outputs": [
        {
          "output_type": "display_data",
          "data": {
            "image/png": "[encoded data removed]",
            "text/plain": [
              "<Figure size 432x288 with 1 Axes>"
            ]
          },
          "metadata": {
            "tags": []
          }
        }
      ]
    },
    {
      "cell_type": "code",
      "metadata": {
        "id": "XHdEHuAqi6go",
        "inputHidden": false,
        "outputHidden": false,
        "colab": {
          "base_uri": "https://localhost:8080/"
        },
        "outputId": "2bd4ddec-d2da-4379-a8ce-bfc8755e5dd7"
      },
      "source": [
        "list(df)"
      ],
      "execution_count": 37,
      "outputs": [
        {
          "output_type": "execute_result",
          "data": {
            "text/plain": [
              "['ratingValue',\n",
              " 'name',\n",
              " 'category',\n",
              " 'priceCurrency',\n",
              " 'price',\n",
              " 'description',\n",
              " 'author',\n",
              " 'p2',\n",
              " 'pert_alcohol',\n",
              " 'ratingValueLn',\n",
              " 'ratingValueScaled']"
            ]
          },
          "metadata": {},
          "execution_count": 37
        }
      ]
    },
    {
      "cell_type": "code",
      "metadata": {
        "id": "Dgb0tQ5WZlL9"
      },
      "source": [
        "#df.to_csv('whiskey_reviews.csv')"
      ],
      "execution_count": 38,
      "outputs": []
    },
    {
      "cell_type": "markdown",
      "metadata": {
        "id": "Fh61k_U6i6gq",
        "inputHidden": false,
        "outputHidden": false
      },
      "source": [
        "<a id=\"ml\"></a>\n",
        "## Machine Learning\n",
        "* Can we use the words of the reviews to predict a whisky's review score? \n",
        "* Which words are the most important / indicate a good review? \n",
        "\n",
        "We'll be applying linear regression to help us answer these questions. To process the text, we'll be using a text vectorization method: Tf-idf (Term Frequency - Inverse Document Frequency)."
      ]
    },
    {
      "cell_type": "code",
      "metadata": {
        "id": "Ji9O3brRi6gr",
        "inputHidden": false,
        "outputHidden": false
      },
      "source": [
        "from sklearn.feature_extraction.text import TfidfVectorizer"
      ],
      "execution_count": 39,
      "outputs": []
    },
    {
      "cell_type": "code",
      "metadata": {
        "id": "VAX5NzxJi6gw",
        "inputHidden": false,
        "outputHidden": false
      },
      "source": [
        "vect = TfidfVectorizer(stop_words='english', max_features=1000, \n",
        "                       min_df=5, max_df=.8, ngram_range=(1,2))\n",
        "X = vect.fit_transform(df['description'])"
      ],
      "execution_count": 40,
      "outputs": []
    },
    {
      "cell_type": "code",
      "metadata": {
        "id": "pwZ1yR8Qi6g2",
        "inputHidden": false,
        "outputHidden": false,
        "colab": {
          "base_uri": "https://localhost:8080/"
        },
        "outputId": "8839f5f1-9350-4fe8-af47-f51d13cdf543"
      },
      "source": [
        "X.todense()"
      ],
      "execution_count": 41,
      "outputs": [
        {
          "output_type": "execute_result",
          "data": {
            "text/plain": [
              "matrix([[0., 0., 0., ..., 0., 0., 0.],\n",
              "        [0., 0., 0., ..., 0., 0., 0.],\n",
              "        [0., 0., 0., ..., 0., 0., 0.],\n",
              "        ...,\n",
              "        [0., 0., 0., ..., 0., 0., 0.],\n",
              "        [0., 0., 0., ..., 0., 0., 0.],\n",
              "        [0., 0., 0., ..., 0., 0., 0.]])"
            ]
          },
          "metadata": {},
          "execution_count": 41
        }
      ]
    },
    {
      "cell_type": "code",
      "metadata": {
        "id": "a0mVKP6Mi6g_",
        "inputHidden": false,
        "outputHidden": false,
        "colab": {
          "base_uri": "https://localhost:8080/"
        },
        "outputId": "7d94ff26-3b64-498e-cdb1-edb7e3e8410f"
      },
      "source": [
        "vect.get_feature_names()[60:80]"
      ],
      "execution_count": 42,
      "outputs": [
        {
          "output_type": "execute_result",
          "data": {
            "text/plain": [
              "['aroma',\n",
              " 'aromas',\n",
              " 'aromatic',\n",
              " 'array',\n",
              " 'ash',\n",
              " 'ashy',\n",
              " 'available',\n",
              " 'away',\n",
              " 'background',\n",
              " 'baked',\n",
              " 'baked apple',\n",
              " 'baking',\n",
              " 'baking spice',\n",
              " 'baking spices',\n",
              " 'balance',\n",
              " 'balanced',\n",
              " 'banana',\n",
              " 'bananas',\n",
              " 'barley',\n",
              " 'barley sugar']"
            ]
          },
          "metadata": {},
          "execution_count": 42
        }
      ]
    },
    {
      "cell_type": "code",
      "metadata": {
        "id": "wa6FTfhTi6hG",
        "inputHidden": false,
        "outputHidden": false,
        "colab": {
          "base_uri": "https://localhost:8080/"
        },
        "outputId": "01155c69-1231-4368-9604-6a1cf9e506dd"
      },
      "source": [
        "from sklearn.linear_model import LinearRegression\n",
        "\n",
        "reg = LinearRegression()\n",
        "reg.fit(X, df['ratingValue'].astype('float'))"
      ],
      "execution_count": 43,
      "outputs": [
        {
          "output_type": "execute_result",
          "data": {
            "text/plain": [
              "LinearRegression(copy_X=True, fit_intercept=True, n_jobs=None, normalize=False)"
            ]
          },
          "metadata": {},
          "execution_count": 43
        }
      ]
    },
    {
      "cell_type": "code",
      "metadata": {
        "id": "-bQQvrA2i6hJ",
        "inputHidden": false,
        "outputHidden": false,
        "colab": {
          "base_uri": "https://localhost:8080/"
        },
        "outputId": "abadcf17-9321-45de-86a6-6541f5621e4c"
      },
      "source": [
        "from sklearn.metrics import mean_squared_error, r2_score\n",
        "\n",
        "y_pred = reg.predict(X)\n",
        "print(r2_score(df['ratingValue'].astype('float'), y_pred))"
      ],
      "execution_count": 44,
      "outputs": [
        {
          "output_type": "stream",
          "name": "stdout",
          "text": [
            "0.573566547757694\n"
          ]
        }
      ]
    },
    {
      "cell_type": "code",
      "metadata": {
        "id": "Z47q_fQai6hP",
        "inputHidden": false,
        "outputHidden": false
      },
      "source": [
        "model = pd.DataFrame(reg.coef_, columns=['coef'], index=vect.get_feature_names())"
      ],
      "execution_count": 45,
      "outputs": []
    },
    {
      "cell_type": "code",
      "metadata": {
        "id": "3QePJZPei6he",
        "inputHidden": false,
        "outputHidden": false
      },
      "source": [
        "y = df['ratingValue'].astype('float').tolist()"
      ],
      "execution_count": 46,
      "outputs": []
    },
    {
      "cell_type": "code",
      "metadata": {
        "id": "PvENhcoJi6hn",
        "inputHidden": false,
        "outputHidden": false,
        "colab": {
          "base_uri": "https://localhost:8080/"
        },
        "outputId": "6f74245c-4996-4099-b9a3-39ffb7897501"
      },
      "source": [
        "from scipy import stats\n",
        "params = np.append(reg.intercept_,reg.coef_)\n",
        "predictions = y_pred\n",
        "newX = pd.DataFrame({\"Constant\":np.ones(len(X.todense()))}).join(pd.DataFrame(X.todense()))\n",
        "MSE = (sum((y-predictions)**2))/(len(newX)-len(newX.columns))\n",
        "\n",
        "# Note if you don't want to use a DataFrame replace the two lines above with\n",
        "# newX = np.append(np.ones((len(X),1)), X, axis=1)\n",
        "# MSE = (sum((y-predictions)**2))/(len(newX)-len(newX[0]))\n",
        "\n",
        "var_b = MSE*(np.linalg.inv(np.dot(newX.T,newX)).diagonal())\n",
        "sd_b = np.sqrt(var_b)\n",
        "ts_b = params/ sd_b\n",
        "\n",
        "p_values =[2*(1-stats.t.cdf(np.abs(i),(len(newX)-1))) for i in ts_b]\n",
        "\n",
        "sd_b = np.round(sd_b,3)\n",
        "ts_b = np.round(ts_b,3)\n",
        "p_values = np.round(p_values,3)\n",
        "params = np.round(params,4)"
      ],
      "execution_count": 47,
      "outputs": [
        {
          "output_type": "stream",
          "name": "stderr",
          "text": [
            "/usr/local/lib/python3.7/dist-packages/ipykernel_launcher.py:12: RuntimeWarning: invalid value encountered in sqrt\n",
            "  if sys.path[0] == '':\n"
          ]
        }
      ]
    },
    {
      "cell_type": "code",
      "metadata": {
        "id": "raMTHVzii6hr",
        "inputHidden": false,
        "outputHidden": false
      },
      "source": [
        "model[\"Std Error\"], model[\"t values\"], model['p values'] = [sd_b[1:], ts_b[1:], p_values[1:]]"
      ],
      "execution_count": 48,
      "outputs": []
    },
    {
      "cell_type": "code",
      "metadata": {
        "id": "rfV3oU0Ji6h2",
        "inputHidden": false,
        "outputHidden": false,
        "colab": {
          "base_uri": "https://localhost:8080/",
          "height": 422
        },
        "outputId": "3f586783-c83b-4120-b041-b85c5fc8a737"
      },
      "source": [
        "model.sort_values(by=[ 'coef', 'p values'])"
      ],
      "execution_count": 49,
      "outputs": [
        {
          "output_type": "execute_result",
          "data": {
            "text/html": [
              "<div>\n",
              "<style scoped>\n",
              "    .dataframe tbody tr th:only-of-type {\n",
              "        vertical-align: middle;\n",
              "    }\n",
              "\n",
              "    .dataframe tbody tr th {\n",
              "        vertical-align: top;\n",
              "    }\n",
              "\n",
              "    .dataframe thead th {\n",
              "        text-align: right;\n",
              "    }\n",
              "</style>\n",
              "<table border=\"1\" class=\"dataframe\">\n",
              "  <thead>\n",
              "    <tr style=\"text-align: right;\">\n",
              "      <th></th>\n",
              "      <th>coef</th>\n",
              "      <th>Std Error</th>\n",
              "      <th>t values</th>\n",
              "      <th>p values</th>\n",
              "    </tr>\n",
              "  </thead>\n",
              "  <tbody>\n",
              "    <tr>\n",
              "      <th>caol ila</th>\n",
              "      <td>-18.251826</td>\n",
              "      <td>15.031</td>\n",
              "      <td>-1.214</td>\n",
              "      <td>0.225</td>\n",
              "    </tr>\n",
              "    <tr>\n",
              "      <th>age statement</th>\n",
              "      <td>-18.144989</td>\n",
              "      <td>6.127</td>\n",
              "      <td>-2.961</td>\n",
              "      <td>0.003</td>\n",
              "    </tr>\n",
              "    <tr>\n",
              "      <th>retail</th>\n",
              "      <td>-15.566407</td>\n",
              "      <td>14.066</td>\n",
              "      <td>-1.107</td>\n",
              "      <td>0.268</td>\n",
              "    </tr>\n",
              "    <tr>\n",
              "      <th>bubble</th>\n",
              "      <td>-12.698401</td>\n",
              "      <td>8.158</td>\n",
              "      <td>-1.557</td>\n",
              "      <td>0.120</td>\n",
              "    </tr>\n",
              "    <tr>\n",
              "      <th>000 bottles</th>\n",
              "      <td>-11.193561</td>\n",
              "      <td>3.084</td>\n",
              "      <td>-3.629</td>\n",
              "      <td>0.000</td>\n",
              "    </tr>\n",
              "    <tr>\n",
              "      <th>...</th>\n",
              "      <td>...</td>\n",
              "      <td>...</td>\n",
              "      <td>...</td>\n",
              "      <td>...</td>\n",
              "    </tr>\n",
              "    <tr>\n",
              "      <th>bubble gum</th>\n",
              "      <td>12.194896</td>\n",
              "      <td>8.500</td>\n",
              "      <td>1.435</td>\n",
              "      <td>0.151</td>\n",
              "    </tr>\n",
              "    <tr>\n",
              "      <th>pedro ximénez</th>\n",
              "      <td>13.667019</td>\n",
              "      <td>4.360</td>\n",
              "      <td>3.135</td>\n",
              "      <td>0.002</td>\n",
              "    </tr>\n",
              "    <tr>\n",
              "      <th>statement</th>\n",
              "      <td>15.992475</td>\n",
              "      <td>5.821</td>\n",
              "      <td>2.747</td>\n",
              "      <td>0.006</td>\n",
              "    </tr>\n",
              "    <tr>\n",
              "      <th>caol</th>\n",
              "      <td>18.637358</td>\n",
              "      <td>9.679</td>\n",
              "      <td>1.925</td>\n",
              "      <td>0.054</td>\n",
              "    </tr>\n",
              "    <tr>\n",
              "      <th>travel retail</th>\n",
              "      <td>28.310133</td>\n",
              "      <td>17.110</td>\n",
              "      <td>1.655</td>\n",
              "      <td>0.098</td>\n",
              "    </tr>\n",
              "  </tbody>\n",
              "</table>\n",
              "<p>1000 rows × 4 columns</p>\n",
              "</div>"
            ],
            "text/plain": [
              "                    coef  Std Error  t values  p values\n",
              "caol ila      -18.251826     15.031    -1.214     0.225\n",
              "age statement -18.144989      6.127    -2.961     0.003\n",
              "retail        -15.566407     14.066    -1.107     0.268\n",
              "bubble        -12.698401      8.158    -1.557     0.120\n",
              "000 bottles   -11.193561      3.084    -3.629     0.000\n",
              "...                  ...        ...       ...       ...\n",
              "bubble gum     12.194896      8.500     1.435     0.151\n",
              "pedro ximénez  13.667019      4.360     3.135     0.002\n",
              "statement      15.992475      5.821     2.747     0.006\n",
              "caol           18.637358      9.679     1.925     0.054\n",
              "travel retail  28.310133     17.110     1.655     0.098\n",
              "\n",
              "[1000 rows x 4 columns]"
            ]
          },
          "metadata": {},
          "execution_count": 49
        }
      ]
    },
    {
      "cell_type": "markdown",
      "metadata": {
        "id": "FfSYJ8rCi6iC",
        "inputHidden": false,
        "outputHidden": false
      },
      "source": [
        "<a id=\"viz\"></a>\n",
        "## Data Vizualization\n",
        "\n",
        "We had a 1,000 features go into our regression model. We can only visualize a handful before the vizualization becomes overwhelming. We going to subset to only the features that are statistically signicant and then sample only 20 of those features. "
      ]
    },
    {
      "cell_type": "code",
      "metadata": {
        "id": "d3n-tO36i6iG",
        "inputHidden": false,
        "outputHidden": false,
        "colab": {
          "base_uri": "https://localhost:8080/",
          "height": 675
        },
        "outputId": "b158fa26-8977-414c-b124-ebaec13a8e67"
      },
      "source": [
        "sample = model[model['p values'] <= 0.01].sample(20).sort_values(by='coef')\n",
        "sample"
      ],
      "execution_count": 50,
      "outputs": [
        {
          "output_type": "execute_result",
          "data": {
            "text/html": [
              "<div>\n",
              "<style scoped>\n",
              "    .dataframe tbody tr th:only-of-type {\n",
              "        vertical-align: middle;\n",
              "    }\n",
              "\n",
              "    .dataframe tbody tr th {\n",
              "        vertical-align: top;\n",
              "    }\n",
              "\n",
              "    .dataframe thead th {\n",
              "        text-align: right;\n",
              "    }\n",
              "</style>\n",
              "<table border=\"1\" class=\"dataframe\">\n",
              "  <thead>\n",
              "    <tr style=\"text-align: right;\">\n",
              "      <th></th>\n",
              "      <th>coef</th>\n",
              "      <th>Std Error</th>\n",
              "      <th>t values</th>\n",
              "      <th>p values</th>\n",
              "    </tr>\n",
              "  </thead>\n",
              "  <tbody>\n",
              "    <tr>\n",
              "      <th>turns</th>\n",
              "      <td>-5.066141</td>\n",
              "      <td>1.905</td>\n",
              "      <td>-2.659</td>\n",
              "      <td>0.008</td>\n",
              "    </tr>\n",
              "    <tr>\n",
              "      <th>short</th>\n",
              "      <td>-4.853272</td>\n",
              "      <td>1.518</td>\n",
              "      <td>-3.198</td>\n",
              "      <td>0.001</td>\n",
              "    </tr>\n",
              "    <tr>\n",
              "      <th>aging</th>\n",
              "      <td>-4.717657</td>\n",
              "      <td>1.684</td>\n",
              "      <td>-2.802</td>\n",
              "      <td>0.005</td>\n",
              "    </tr>\n",
              "    <tr>\n",
              "      <th>apples</th>\n",
              "      <td>3.723559</td>\n",
              "      <td>1.206</td>\n",
              "      <td>3.086</td>\n",
              "      <td>0.002</td>\n",
              "    </tr>\n",
              "    <tr>\n",
              "      <th>candied</th>\n",
              "      <td>3.887234</td>\n",
              "      <td>1.502</td>\n",
              "      <td>2.587</td>\n",
              "      <td>0.010</td>\n",
              "    </tr>\n",
              "    <tr>\n",
              "      <th>oak</th>\n",
              "      <td>4.056558</td>\n",
              "      <td>1.079</td>\n",
              "      <td>3.759</td>\n",
              "      <td>0.000</td>\n",
              "    </tr>\n",
              "    <tr>\n",
              "      <th>strawberry</th>\n",
              "      <td>4.235177</td>\n",
              "      <td>1.363</td>\n",
              "      <td>3.107</td>\n",
              "      <td>0.002</td>\n",
              "    </tr>\n",
              "    <tr>\n",
              "      <th>vanilla</th>\n",
              "      <td>4.437990</td>\n",
              "      <td>1.105</td>\n",
              "      <td>4.015</td>\n",
              "      <td>0.000</td>\n",
              "    </tr>\n",
              "    <tr>\n",
              "      <th>long finish</th>\n",
              "      <td>4.621340</td>\n",
              "      <td>1.666</td>\n",
              "      <td>2.774</td>\n",
              "      <td>0.006</td>\n",
              "    </tr>\n",
              "    <tr>\n",
              "      <th>spice</th>\n",
              "      <td>4.906737</td>\n",
              "      <td>1.048</td>\n",
              "      <td>4.682</td>\n",
              "      <td>0.000</td>\n",
              "    </tr>\n",
              "    <tr>\n",
              "      <th>royal</th>\n",
              "      <td>5.042449</td>\n",
              "      <td>1.758</td>\n",
              "      <td>2.869</td>\n",
              "      <td>0.004</td>\n",
              "    </tr>\n",
              "    <tr>\n",
              "      <th>stuff</th>\n",
              "      <td>5.090618</td>\n",
              "      <td>1.888</td>\n",
              "      <td>2.696</td>\n",
              "      <td>0.007</td>\n",
              "    </tr>\n",
              "    <tr>\n",
              "      <th>high</th>\n",
              "      <td>5.163329</td>\n",
              "      <td>1.412</td>\n",
              "      <td>3.657</td>\n",
              "      <td>0.000</td>\n",
              "    </tr>\n",
              "    <tr>\n",
              "      <th>effect</th>\n",
              "      <td>5.175189</td>\n",
              "      <td>1.920</td>\n",
              "      <td>2.696</td>\n",
              "      <td>0.007</td>\n",
              "    </tr>\n",
              "    <tr>\n",
              "      <th>yields</th>\n",
              "      <td>5.225221</td>\n",
              "      <td>1.740</td>\n",
              "      <td>3.003</td>\n",
              "      <td>0.003</td>\n",
              "    </tr>\n",
              "    <tr>\n",
              "      <th>old</th>\n",
              "      <td>5.370212</td>\n",
              "      <td>1.662</td>\n",
              "      <td>3.231</td>\n",
              "      <td>0.001</td>\n",
              "    </tr>\n",
              "    <tr>\n",
              "      <th>dynamic</th>\n",
              "      <td>5.755206</td>\n",
              "      <td>2.136</td>\n",
              "      <td>2.694</td>\n",
              "      <td>0.007</td>\n",
              "    </tr>\n",
              "    <tr>\n",
              "      <th>impressive</th>\n",
              "      <td>6.366159</td>\n",
              "      <td>1.720</td>\n",
              "      <td>3.700</td>\n",
              "      <td>0.000</td>\n",
              "    </tr>\n",
              "    <tr>\n",
              "      <th>iodine</th>\n",
              "      <td>6.740976</td>\n",
              "      <td>1.913</td>\n",
              "      <td>3.523</td>\n",
              "      <td>0.000</td>\n",
              "    </tr>\n",
              "    <tr>\n",
              "      <th>vibrant</th>\n",
              "      <td>7.356239</td>\n",
              "      <td>1.677</td>\n",
              "      <td>4.386</td>\n",
              "      <td>0.000</td>\n",
              "    </tr>\n",
              "  </tbody>\n",
              "</table>\n",
              "</div>"
            ],
            "text/plain": [
              "                 coef  Std Error  t values  p values\n",
              "turns       -5.066141      1.905    -2.659     0.008\n",
              "short       -4.853272      1.518    -3.198     0.001\n",
              "aging       -4.717657      1.684    -2.802     0.005\n",
              "apples       3.723559      1.206     3.086     0.002\n",
              "candied      3.887234      1.502     2.587     0.010\n",
              "oak          4.056558      1.079     3.759     0.000\n",
              "strawberry   4.235177      1.363     3.107     0.002\n",
              "vanilla      4.437990      1.105     4.015     0.000\n",
              "long finish  4.621340      1.666     2.774     0.006\n",
              "spice        4.906737      1.048     4.682     0.000\n",
              "royal        5.042449      1.758     2.869     0.004\n",
              "stuff        5.090618      1.888     2.696     0.007\n",
              "high         5.163329      1.412     3.657     0.000\n",
              "effect       5.175189      1.920     2.696     0.007\n",
              "yields       5.225221      1.740     3.003     0.003\n",
              "old          5.370212      1.662     3.231     0.001\n",
              "dynamic      5.755206      2.136     2.694     0.007\n",
              "impressive   6.366159      1.720     3.700     0.000\n",
              "iodine       6.740976      1.913     3.523     0.000\n",
              "vibrant      7.356239      1.677     4.386     0.000"
            ]
          },
          "metadata": {},
          "execution_count": 50
        }
      ]
    },
    {
      "cell_type": "markdown",
      "metadata": {
        "id": "Kf92D0mgi6iP",
        "inputHidden": false,
        "outputHidden": false
      },
      "source": [
        "### Regression Intercept\n",
        "If reviewer wrote nothing in the review, then the whiskey's review score would be 80.5 based on our model. Each word in the review then adds or subtracts from the score based on coefficient associated with the term. \n",
        "\n",
        "Remeber here, that's it's not the count of the word's presence in the review. The value that you multiple the coefficient by is the tf-idf score of the term or phrase in that particular review."
      ]
    },
    {
      "cell_type": "code",
      "metadata": {
        "id": "Cu-dxEFki6iP",
        "inputHidden": false,
        "outputHidden": false,
        "colab": {
          "base_uri": "https://localhost:8080/"
        },
        "outputId": "f37b11e5-089a-45a0-bddd-169e521f42e4"
      },
      "source": [
        "print(\"Baseline whisky review score: {}\".format(reg.intercept_))"
      ],
      "execution_count": 53,
      "outputs": [
        {
          "output_type": "stream",
          "name": "stdout",
          "text": [
            "Baseline whisky review score: 80.5620832303696\n"
          ]
        }
      ]
    },
    {
      "cell_type": "code",
      "metadata": {
        "id": "RbUl9dwTi6iX",
        "inputHidden": false,
        "outputHidden": false,
        "colab": {
          "base_uri": "https://localhost:8080/",
          "height": 367
        },
        "outputId": "aa0cc58f-b59c-4de8-ef3e-4e483a988ae9"
      },
      "source": [
        "from bokeh.io import show, output_notebook\n",
        "from bokeh.plotting import figure\n",
        "from bokeh.models import HoverTool\n",
        "\n",
        "output_notebook()\n",
        "\n",
        "p = figure(x_range=sample.index.tolist(), plot_height=350, \n",
        "           title=\"Whiskey Review Words\", tools='hover')\n",
        "p.vbar(x=sample.index.tolist(), top=sample['coef'], width=0.8)\n",
        "p.xaxis.major_label_orientation = \"vertical\"\n",
        "hover = p.select(dict(type=HoverTool))\n",
        "hover.tooltips = [('Word',' @x'), ('Coef', ' @top')]\n",
        "show(p)"
      ],
      "execution_count": 55,
      "outputs": [
        {
          "output_type": "display_data",
          "data": {
            "application/javascript": [
              "\n",
              "(function(root) {\n",
              "  function now() {\n",
              "    return new Date();\n",
              "  }\n",
              "\n",
              "  var force = true;\n",
              "\n",
              "  if (typeof root._bokeh_onload_callbacks === \"undefined\" || force === true) {\n",
              "    root._bokeh_onload_callbacks = [];\n",
              "    root._bokeh_is_loading = undefined;\n",
              "  }\n",
              "\n",
              "  var JS_MIME_TYPE = 'application/javascript';\n",
              "  var HTML_MIME_TYPE = 'text/html';\n",
              "  var EXEC_MIME_TYPE = 'application/vnd.bokehjs_exec.v0+json';\n",
              "  var CLASS_NAME = 'output_bokeh rendered_html';\n",
              "\n",
              "  /**\n",
              "   * Render data to the DOM node\n",
              "   */\n",
              "  function render(props, node) {\n",
              "    var script = document.createElement(\"script\");\n",
              "    node.appendChild(script);\n",
              "  }\n",
              "\n",
              "  /**\n",
              "   * Handle when an output is cleared or removed\n",
              "   */\n",
              "  function handleClearOutput(event, handle) {\n",
              "    var cell = handle.cell;\n",
              "\n",
              "    var id = cell.output_area._bokeh_element_id;\n",
              "    var server_id = cell.output_area._bokeh_server_id;\n",
              "    // Clean up Bokeh references\n",
              "    if (id != null && id in Bokeh.index) {\n",
              "      Bokeh.index[id].model.document.clear();\n",
              "      delete Bokeh.index[id];\n",
              "    }\n",
              "\n",
              "    if (server_id !== undefined) {\n",
              "      // Clean up Bokeh references\n",
              "      var cmd = \"from bokeh.io.state import curstate; print(curstate().uuid_to_server['\" + server_id + \"'].get_sessions()[0].document.roots[0]._id)\";\n",
              "      cell.notebook.kernel.execute(cmd, {\n",
              "        iopub: {\n",
              "          output: function(msg) {\n",
              "            var id = msg.content.text.trim();\n",
              "            if (id in Bokeh.index) {\n",
              "              Bokeh.index[id].model.document.clear();\n",
              "              delete Bokeh.index[id];\n",
              "            }\n",
              "          }\n",
              "        }\n",
              "      });\n",
              "      // Destroy server and session\n",
              "      var cmd = \"import bokeh.io.notebook as ion; ion.destroy_server('\" + server_id + \"')\";\n",
              "      cell.notebook.kernel.execute(cmd);\n",
              "    }\n",
              "  }\n",
              "\n",
              "  /**\n",
              "   * Handle when a new output is added\n",
              "   */\n",
              "  function handleAddOutput(event, handle) {\n",
              "    var output_area = handle.output_area;\n",
              "    var output = handle.output;\n",
              "\n",
              "    // limit handleAddOutput to display_data with EXEC_MIME_TYPE content only\n",
              "    if ((output.output_type != \"display_data\") || (!Object.prototype.hasOwnProperty.call(output.data, EXEC_MIME_TYPE))) {\n",
              "      return\n",
              "    }\n",
              "\n",
              "    var toinsert = output_area.element.find(\".\" + CLASS_NAME.split(' ')[0]);\n",
              "\n",
              "    if (output.metadata[EXEC_MIME_TYPE][\"id\"] !== undefined) {\n",
              "      toinsert[toinsert.length - 1].firstChild.textContent = output.data[JS_MIME_TYPE];\n",
              "      // store reference to embed id on output_area\n",
              "      output_area._bokeh_element_id = output.metadata[EXEC_MIME_TYPE][\"id\"];\n",
              "    }\n",
              "    if (output.metadata[EXEC_MIME_TYPE][\"server_id\"] !== undefined) {\n",
              "      var bk_div = document.createElement(\"div\");\n",
              "      bk_div.innerHTML = output.data[HTML_MIME_TYPE];\n",
              "      var script_attrs = bk_div.children[0].attributes;\n",
              "      for (var i = 0; i < script_attrs.length; i++) {\n",
              "        toinsert[toinsert.length - 1].firstChild.setAttribute(script_attrs[i].name, script_attrs[i].value);\n",
              "        toinsert[toinsert.length - 1].firstChild.textContent = bk_div.children[0].textContent\n",
              "      }\n",
              "      // store reference to server id on output_area\n",
              "      output_area._bokeh_server_id = output.metadata[EXEC_MIME_TYPE][\"server_id\"];\n",
              "    }\n",
              "  }\n",
              "\n",
              "  function register_renderer(events, OutputArea) {\n",
              "\n",
              "    function append_mime(data, metadata, element) {\n",
              "      // create a DOM node to render to\n",
              "      var toinsert = this.create_output_subarea(\n",
              "        metadata,\n",
              "        CLASS_NAME,\n",
              "        EXEC_MIME_TYPE\n",
              "      );\n",
              "      this.keyboard_manager.register_events(toinsert);\n",
              "      // Render to node\n",
              "      var props = {data: data, metadata: metadata[EXEC_MIME_TYPE]};\n",
              "      render(props, toinsert[toinsert.length - 1]);\n",
              "      element.append(toinsert);\n",
              "      return toinsert\n",
              "    }\n",
              "\n",
              "    /* Handle when an output is cleared or removed */\n",
              "    events.on('clear_output.CodeCell', handleClearOutput);\n",
              "    events.on('delete.Cell', handleClearOutput);\n",
              "\n",
              "    /* Handle when a new output is added */\n",
              "    events.on('output_added.OutputArea', handleAddOutput);\n",
              "\n",
              "    /**\n",
              "     * Register the mime type and append_mime function with output_area\n",
              "     */\n",
              "    OutputArea.prototype.register_mime_type(EXEC_MIME_TYPE, append_mime, {\n",
              "      /* Is output safe? */\n",
              "      safe: true,\n",
              "      /* Index of renderer in `output_area.display_order` */\n",
              "      index: 0\n",
              "    });\n",
              "  }\n",
              "\n",
              "  // register the mime type if in Jupyter Notebook environment and previously unregistered\n",
              "  if (root.Jupyter !== undefined) {\n",
              "    var events = require('base/js/events');\n",
              "    var OutputArea = require('notebook/js/outputarea').OutputArea;\n",
              "\n",
              "    if (OutputArea.prototype.mime_types().indexOf(EXEC_MIME_TYPE) == -1) {\n",
              "      register_renderer(events, OutputArea);\n",
              "    }\n",
              "  }\n",
              "\n",
              "  \n",
              "  if (typeof (root._bokeh_timeout) === \"undefined\" || force === true) {\n",
              "    root._bokeh_timeout = Date.now() + 5000;\n",
              "    root._bokeh_failed_load = false;\n",
              "  }\n",
              "\n",
              "  var NB_LOAD_WARNING = {'data': {'text/html':\n",
              "     \"<div style='background-color: #fdd'>\\n\"+\n",
              "     \"<p>\\n\"+\n",
              "     \"BokehJS does not appear to have successfully loaded. If loading BokehJS from CDN, this \\n\"+\n",
              "     \"may be due to a slow or bad network connection. Possible fixes:\\n\"+\n",
              "     \"</p>\\n\"+\n",
              "     \"<ul>\\n\"+\n",
              "     \"<li>re-rerun `output_notebook()` to attempt to load from CDN again, or</li>\\n\"+\n",
              "     \"<li>use INLINE resources instead, as so:</li>\\n\"+\n",
              "     \"</ul>\\n\"+\n",
              "     \"<code>\\n\"+\n",
              "     \"from bokeh.resources import INLINE\\n\"+\n",
              "     \"output_notebook(resources=INLINE)\\n\"+\n",
              "     \"</code>\\n\"+\n",
              "     \"</div>\"}};\n",
              "\n",
              "  function display_loaded() {\n",
              "    var el = document.getElementById(null);\n",
              "    if (el != null) {\n",
              "      el.textContent = \"BokehJS is loading...\";\n",
              "    }\n",
              "    if (root.Bokeh !== undefined) {\n",
              "      if (el != null) {\n",
              "        el.textContent = \"BokehJS \" + root.Bokeh.version + \" successfully loaded.\";\n",
              "      }\n",
              "    } else if (Date.now() < root._bokeh_timeout) {\n",
              "      setTimeout(display_loaded, 100)\n",
              "    }\n",
              "  }\n",
              "\n",
              "\n",
              "  function run_callbacks() {\n",
              "    try {\n",
              "      root._bokeh_onload_callbacks.forEach(function(callback) {\n",
              "        if (callback != null)\n",
              "          callback();\n",
              "      });\n",
              "    } finally {\n",
              "      delete root._bokeh_onload_callbacks\n",
              "    }\n",
              "    console.debug(\"Bokeh: all callbacks have finished\");\n",
              "  }\n",
              "\n",
              "  function load_libs(css_urls, js_urls, callback) {\n",
              "    if (css_urls == null) css_urls = [];\n",
              "    if (js_urls == null) js_urls = [];\n",
              "\n",
              "    root._bokeh_onload_callbacks.push(callback);\n",
              "    if (root._bokeh_is_loading > 0) {\n",
              "      console.debug(\"Bokeh: BokehJS is being loaded, scheduling callback at\", now());\n",
              "      return null;\n",
              "    }\n",
              "    if (js_urls == null || js_urls.length === 0) {\n",
              "      run_callbacks();\n",
              "      return null;\n",
              "    }\n",
              "    console.debug(\"Bokeh: BokehJS not loaded, scheduling load and callback at\", now());\n",
              "    root._bokeh_is_loading = css_urls.length + js_urls.length;\n",
              "\n",
              "    function on_load() {\n",
              "      root._bokeh_is_loading--;\n",
              "      if (root._bokeh_is_loading === 0) {\n",
              "        console.debug(\"Bokeh: all BokehJS libraries/stylesheets loaded\");\n",
              "        run_callbacks()\n",
              "      }\n",
              "    }\n",
              "\n",
              "    function on_error(url) {\n",
              "      console.error(\"failed to load \" + url);\n",
              "    }\n",
              "\n",
              "    for (let i = 0; i < css_urls.length; i++) {\n",
              "      const url = css_urls[i];\n",
              "      const element = document.createElement(\"link\");\n",
              "      element.onload = on_load;\n",
              "      element.onerror = on_error.bind(null, url);\n",
              "      element.rel = \"stylesheet\";\n",
              "      element.type = \"text/css\";\n",
              "      element.href = url;\n",
              "      console.debug(\"Bokeh: injecting link tag for BokehJS stylesheet: \", url);\n",
              "      document.body.appendChild(element);\n",
              "    }\n",
              "\n",
              "    const hashes = {\"https://cdn.bokeh.org/bokeh/release/bokeh-2.3.3.min.js\": \"dM3QQsP+wXdHg42wTqW85BjZQdLNNIXqlPw/BgKoExPmTG7ZLML4EGqLMfqHT6ON\", \"https://cdn.bokeh.org/bokeh/release/bokeh-tables-2.3.3.min.js\": \"8x57I4YuIfu8XyZfFo0XVr2WAT8EK4rh/uDe3wF7YuW2FNUSNEpJbsPaB1nJ2fz2\", \"https://cdn.bokeh.org/bokeh/release/bokeh-widgets-2.3.3.min.js\": \"3QTqdz9LyAm2i0sG5XTePsHec3UHWwVsrOL68SYRoAXsafvfAyqtQ+h440+qIBhS\"};\n",
              "\n",
              "    for (let i = 0; i < js_urls.length; i++) {\n",
              "      const url = js_urls[i];\n",
              "      const element = document.createElement('script');\n",
              "      element.onload = on_load;\n",
              "      element.onerror = on_error.bind(null, url);\n",
              "      element.async = false;\n",
              "      element.src = url;\n",
              "      if (url in hashes) {\n",
              "        element.crossOrigin = \"anonymous\";\n",
              "        element.integrity = \"sha384-\" + hashes[url];\n",
              "      }\n",
              "      console.debug(\"Bokeh: injecting script tag for BokehJS library: \", url);\n",
              "      document.head.appendChild(element);\n",
              "    }\n",
              "  };\n",
              "\n",
              "  function inject_raw_css(css) {\n",
              "    const element = document.createElement(\"style\");\n",
              "    element.appendChild(document.createTextNode(css));\n",
              "    document.body.appendChild(element);\n",
              "  }\n",
              "\n",
              "  \n",
              "  var js_urls = [\"https://cdn.bokeh.org/bokeh/release/bokeh-2.3.3.min.js\", \"https://cdn.bokeh.org/bokeh/release/bokeh-widgets-2.3.3.min.js\", \"https://cdn.bokeh.org/bokeh/release/bokeh-tables-2.3.3.min.js\"];\n",
              "  var css_urls = [];\n",
              "  \n",
              "\n",
              "  var inline_js = [\n",
              "    function(Bokeh) {\n",
              "      Bokeh.set_log_level(\"info\");\n",
              "    },\n",
              "    function(Bokeh) {\n",
              "    \n",
              "    \n",
              "    }\n",
              "  ];\n",
              "\n",
              "  function run_inline_js() {\n",
              "    \n",
              "    if (root.Bokeh !== undefined || force === true) {\n",
              "      \n",
              "    for (var i = 0; i < inline_js.length; i++) {\n",
              "      inline_js[i].call(root, root.Bokeh);\n",
              "    }\n",
              "    } else if (Date.now() < root._bokeh_timeout) {\n",
              "      setTimeout(run_inline_js, 100);\n",
              "    } else if (!root._bokeh_failed_load) {\n",
              "      console.log(\"Bokeh: BokehJS failed to load within specified timeout.\");\n",
              "      root._bokeh_failed_load = true;\n",
              "    } else if (force !== true) {\n",
              "      var cell = $(document.getElementById(null)).parents('.cell').data().cell;\n",
              "      cell.output_area.append_execute_result(NB_LOAD_WARNING)\n",
              "    }\n",
              "\n",
              "  }\n",
              "\n",
              "  if (root._bokeh_is_loading === 0) {\n",
              "    console.debug(\"Bokeh: BokehJS loaded, going straight to plotting\");\n",
              "    run_inline_js();\n",
              "  } else {\n",
              "    load_libs(css_urls, js_urls, function() {\n",
              "      console.debug(\"Bokeh: BokehJS plotting callback run at\", now());\n",
              "      run_inline_js();\n",
              "    });\n",
              "  }\n",
              "}(window));"
            ],
            "application/vnd.bokehjs_load.v0+json": "\n(function(root) {\n  function now() {\n    return new Date();\n  }\n\n  var force = true;\n\n  if (typeof root._bokeh_onload_callbacks === \"undefined\" || force === true) {\n    root._bokeh_onload_callbacks = [];\n    root._bokeh_is_loading = undefined;\n  }\n\n  \n\n  \n  if (typeof (root._bokeh_timeout) === \"undefined\" || force === true) {\n    root._bokeh_timeout = Date.now() + 5000;\n    root._bokeh_failed_load = false;\n  }\n\n  var NB_LOAD_WARNING = {'data': {'text/html':\n     \"<div style='background-color: #fdd'>\\n\"+\n     \"<p>\\n\"+\n     \"BokehJS does not appear to have successfully loaded. If loading BokehJS from CDN, this \\n\"+\n     \"may be due to a slow or bad network connection. Possible fixes:\\n\"+\n     \"</p>\\n\"+\n     \"<ul>\\n\"+\n     \"<li>re-rerun `output_notebook()` to attempt to load from CDN again, or</li>\\n\"+\n     \"<li>use INLINE resources instead, as so:</li>\\n\"+\n     \"</ul>\\n\"+\n     \"<code>\\n\"+\n     \"from bokeh.resources import INLINE\\n\"+\n     \"output_notebook(resources=INLINE)\\n\"+\n     \"</code>\\n\"+\n     \"</div>\"}};\n\n  function display_loaded() {\n    var el = document.getElementById(null);\n    if (el != null) {\n      el.textContent = \"BokehJS is loading...\";\n    }\n    if (root.Bokeh !== undefined) {\n      if (el != null) {\n        el.textContent = \"BokehJS \" + root.Bokeh.version + \" successfully loaded.\";\n      }\n    } else if (Date.now() < root._bokeh_timeout) {\n      setTimeout(display_loaded, 100)\n    }\n  }\n\n\n  function run_callbacks() {\n    try {\n      root._bokeh_onload_callbacks.forEach(function(callback) {\n        if (callback != null)\n          callback();\n      });\n    } finally {\n      delete root._bokeh_onload_callbacks\n    }\n    console.debug(\"Bokeh: all callbacks have finished\");\n  }\n\n  function load_libs(css_urls, js_urls, callback) {\n    if (css_urls == null) css_urls = [];\n    if (js_urls == null) js_urls = [];\n\n    root._bokeh_onload_callbacks.push(callback);\n    if (root._bokeh_is_loading > 0) {\n      console.debug(\"Bokeh: BokehJS is being loaded, scheduling callback at\", now());\n      return null;\n    }\n    if (js_urls == null || js_urls.length === 0) {\n      run_callbacks();\n      return null;\n    }\n    console.debug(\"Bokeh: BokehJS not loaded, scheduling load and callback at\", now());\n    root._bokeh_is_loading = css_urls.length + js_urls.length;\n\n    function on_load() {\n      root._bokeh_is_loading--;\n      if (root._bokeh_is_loading === 0) {\n        console.debug(\"Bokeh: all BokehJS libraries/stylesheets loaded\");\n        run_callbacks()\n      }\n    }\n\n    function on_error(url) {\n      console.error(\"failed to load \" + url);\n    }\n\n    for (let i = 0; i < css_urls.length; i++) {\n      const url = css_urls[i];\n      const element = document.createElement(\"link\");\n      element.onload = on_load;\n      element.onerror = on_error.bind(null, url);\n      element.rel = \"stylesheet\";\n      element.type = \"text/css\";\n      element.href = url;\n      console.debug(\"Bokeh: injecting link tag for BokehJS stylesheet: \", url);\n      document.body.appendChild(element);\n    }\n\n    const hashes = {\"https://cdn.bokeh.org/bokeh/release/bokeh-2.3.3.min.js\": \"dM3QQsP+wXdHg42wTqW85BjZQdLNNIXqlPw/BgKoExPmTG7ZLML4EGqLMfqHT6ON\", \"https://cdn.bokeh.org/bokeh/release/bokeh-tables-2.3.3.min.js\": \"8x57I4YuIfu8XyZfFo0XVr2WAT8EK4rh/uDe3wF7YuW2FNUSNEpJbsPaB1nJ2fz2\", \"https://cdn.bokeh.org/bokeh/release/bokeh-widgets-2.3.3.min.js\": \"3QTqdz9LyAm2i0sG5XTePsHec3UHWwVsrOL68SYRoAXsafvfAyqtQ+h440+qIBhS\"};\n\n    for (let i = 0; i < js_urls.length; i++) {\n      const url = js_urls[i];\n      const element = document.createElement('script');\n      element.onload = on_load;\n      element.onerror = on_error.bind(null, url);\n      element.async = false;\n      element.src = url;\n      if (url in hashes) {\n        element.crossOrigin = \"anonymous\";\n        element.integrity = \"sha384-\" + hashes[url];\n      }\n      console.debug(\"Bokeh: injecting script tag for BokehJS library: \", url);\n      document.head.appendChild(element);\n    }\n  };\n\n  function inject_raw_css(css) {\n    const element = document.createElement(\"style\");\n    element.appendChild(document.createTextNode(css));\n    document.body.appendChild(element);\n  }\n\n  \n  var js_urls = [\"https://cdn.bokeh.org/bokeh/release/bokeh-2.3.3.min.js\", \"https://cdn.bokeh.org/bokeh/release/bokeh-widgets-2.3.3.min.js\", \"https://cdn.bokeh.org/bokeh/release/bokeh-tables-2.3.3.min.js\"];\n  var css_urls = [];\n  \n\n  var inline_js = [\n    function(Bokeh) {\n      Bokeh.set_log_level(\"info\");\n    },\n    function(Bokeh) {\n    \n    \n    }\n  ];\n\n  function run_inline_js() {\n    \n    if (root.Bokeh !== undefined || force === true) {\n      \n    for (var i = 0; i < inline_js.length; i++) {\n      inline_js[i].call(root, root.Bokeh);\n    }\n    } else if (Date.now() < root._bokeh_timeout) {\n      setTimeout(run_inline_js, 100);\n    } else if (!root._bokeh_failed_load) {\n      console.log(\"Bokeh: BokehJS failed to load within specified timeout.\");\n      root._bokeh_failed_load = true;\n    } else if (force !== true) {\n      var cell = $(document.getElementById(null)).parents('.cell').data().cell;\n      cell.output_area.append_execute_result(NB_LOAD_WARNING)\n    }\n\n  }\n\n  if (root._bokeh_is_loading === 0) {\n    console.debug(\"Bokeh: BokehJS loaded, going straight to plotting\");\n    run_inline_js();\n  } else {\n    load_libs(css_urls, js_urls, function() {\n      console.debug(\"Bokeh: BokehJS plotting callback run at\", now());\n      run_inline_js();\n    });\n  }\n}(window));"
          },
          "metadata": {}
        },
        {
          "output_type": "display_data",
          "data": {
            "text/html": [
              "\n",
              "\n",
              "\n",
              "\n",
              "\n",
              "\n",
              "  <div class=\"bk-root\" id=\"27e703ca-36dc-481f-88f8-36966fb89558\" data-root-id=\"1189\"></div>\n"
            ]
          },
          "metadata": {}
        },
        {
          "output_type": "display_data",
          "data": {
            "application/javascript": [
              "(function(root) {\n",
              "  function embed_document(root) {\n",
              "    \n",
              "  var docs_json = {\"23554aef-df83-4d02-97b1-5a8faa4569ed\":{\"defs\":[],\"roots\":{\"references\":[{\"attributes\":{\"below\":[{\"id\":\"1200\"}],\"center\":[{\"id\":\"1202\"},{\"id\":\"1206\"}],\"height\":350,\"left\":[{\"id\":\"1203\"}],\"renderers\":[{\"id\":\"1213\"}],\"title\":{\"id\":\"1190\"},\"toolbar\":{\"id\":\"1208\"},\"x_range\":{\"id\":\"1192\"},\"x_scale\":{\"id\":\"1196\"},\"y_range\":{\"id\":\"1194\"},\"y_scale\":{\"id\":\"1198\"}},\"id\":\"1189\",\"subtype\":\"Figure\",\"type\":\"Plot\"},{\"attributes\":{},\"id\":\"1198\",\"type\":\"LinearScale\"},{\"attributes\":{\"formatter\":{\"id\":\"1220\"},\"major_label_orientation\":\"vertical\",\"major_label_policy\":{\"id\":\"1221\"},\"ticker\":{\"id\":\"1201\"}},\"id\":\"1200\",\"type\":\"CategoricalAxis\"},{\"attributes\":{\"fill_color\":{\"value\":\"#1f77b4\"},\"line_color\":{\"value\":\"#1f77b4\"},\"top\":{\"field\":\"top\"},\"width\":{\"value\":0.8},\"x\":{\"field\":\"x\"}},\"id\":\"1211\",\"type\":\"VBar\"},{\"attributes\":{\"source\":{\"id\":\"1210\"}},\"id\":\"1214\",\"type\":\"CDSView\"},{\"attributes\":{},\"id\":\"1204\",\"type\":\"BasicTicker\"},{\"attributes\":{},\"id\":\"1201\",\"type\":\"CategoricalTicker\"},{\"attributes\":{},\"id\":\"1194\",\"type\":\"DataRange1d\"},{\"attributes\":{},\"id\":\"1217\",\"type\":\"BasicTickFormatter\"},{\"attributes\":{\"axis\":{\"id\":\"1200\"},\"ticker\":null},\"id\":\"1202\",\"type\":\"Grid\"},{\"attributes\":{\"fill_alpha\":{\"value\":0.1},\"fill_color\":{\"value\":\"#1f77b4\"},\"line_alpha\":{\"value\":0.1},\"line_color\":{\"value\":\"#1f77b4\"},\"top\":{\"field\":\"top\"},\"width\":{\"value\":0.8},\"x\":{\"field\":\"x\"}},\"id\":\"1212\",\"type\":\"VBar\"},{\"attributes\":{\"data_source\":{\"id\":\"1210\"},\"glyph\":{\"id\":\"1211\"},\"hover_glyph\":null,\"muted_glyph\":null,\"nonselection_glyph\":{\"id\":\"1212\"},\"view\":{\"id\":\"1214\"}},\"id\":\"1213\",\"type\":\"GlyphRenderer\"},{\"attributes\":{\"axis\":{\"id\":\"1203\"},\"dimension\":1,\"ticker\":null},\"id\":\"1206\",\"type\":\"Grid\"},{\"attributes\":{\"formatter\":{\"id\":\"1217\"},\"major_label_policy\":{\"id\":\"1218\"},\"ticker\":{\"id\":\"1204\"}},\"id\":\"1203\",\"type\":\"LinearAxis\"},{\"attributes\":{\"callback\":null,\"tooltips\":[[\"Word\",\" @x\"],[\"Coef\",\" @top\"]]},\"id\":\"1207\",\"type\":\"HoverTool\"},{\"attributes\":{\"active_multi\":null,\"tools\":[{\"id\":\"1207\"}]},\"id\":\"1208\",\"type\":\"Toolbar\"},{\"attributes\":{},\"id\":\"1218\",\"type\":\"AllLabels\"},{\"attributes\":{},\"id\":\"1222\",\"type\":\"Selection\"},{\"attributes\":{},\"id\":\"1220\",\"type\":\"CategoricalTickFormatter\"},{\"attributes\":{},\"id\":\"1196\",\"type\":\"CategoricalScale\"},{\"attributes\":{},\"id\":\"1221\",\"type\":\"AllLabels\"},{\"attributes\":{\"text\":\"Whiskey Review Words\"},\"id\":\"1190\",\"type\":\"Title\"},{\"attributes\":{},\"id\":\"1223\",\"type\":\"UnionRenderers\"},{\"attributes\":{\"factors\":[\"turns\",\"short\",\"aging\",\"apples\",\"candied\",\"oak\",\"strawberry\",\"vanilla\",\"long finish\",\"spice\",\"royal\",\"stuff\",\"high\",\"effect\",\"yields\",\"old\",\"dynamic\",\"impressive\",\"iodine\",\"vibrant\"]},\"id\":\"1192\",\"type\":\"FactorRange\"},{\"attributes\":{\"data\":{\"top\":{\"__ndarray__\":\"JFe8jrpDFMCmgecDwGkTwORI5Izh3hLAKB8vONnJDUB3F0/xDRkPQLe/QkzqORBAlBHsHNLwEEBIKWeFgMARQGXD/JFAfBJA+pi2rn+gE0BBM83UdysUQHVF0AbLXBRAwZs/mj+nFEDrxSvHZLMUQBP1Njig5hRAQeaCzRh7FUDxOfW9VAUXQMdaXILydhlANF2tf8L2GkD2Ly7TyWwdQA==\",\"dtype\":\"float64\",\"order\":\"little\",\"shape\":[20]},\"x\":[\"turns\",\"short\",\"aging\",\"apples\",\"candied\",\"oak\",\"strawberry\",\"vanilla\",\"long finish\",\"spice\",\"royal\",\"stuff\",\"high\",\"effect\",\"yields\",\"old\",\"dynamic\",\"impressive\",\"iodine\",\"vibrant\"]},\"selected\":{\"id\":\"1222\"},\"selection_policy\":{\"id\":\"1223\"}},\"id\":\"1210\",\"type\":\"ColumnDataSource\"}],\"root_ids\":[\"1189\"]},\"title\":\"Bokeh Application\",\"version\":\"2.3.3\"}};\n",
              "  var render_items = [{\"docid\":\"23554aef-df83-4d02-97b1-5a8faa4569ed\",\"root_ids\":[\"1189\"],\"roots\":{\"1189\":\"27e703ca-36dc-481f-88f8-36966fb89558\"}}];\n",
              "  root.Bokeh.embed.embed_items_notebook(docs_json, render_items);\n",
              "\n",
              "  }\n",
              "  if (root.Bokeh !== undefined) {\n",
              "    embed_document(root);\n",
              "  } else {\n",
              "    var attempts = 0;\n",
              "    var timer = setInterval(function(root) {\n",
              "      if (root.Bokeh !== undefined) {\n",
              "        clearInterval(timer);\n",
              "        embed_document(root);\n",
              "      } else {\n",
              "        attempts++;\n",
              "        if (attempts > 100) {\n",
              "          clearInterval(timer);\n",
              "          console.log(\"Bokeh: ERROR: Unable to run BokehJS code because BokehJS library is missing\");\n",
              "        }\n",
              "      }\n",
              "    }, 10, root)\n",
              "  }\n",
              "})(window);"
            ],
            "application/vnd.bokehjs_exec.v0+json": ""
          },
          "metadata": {
            "application/vnd.bokehjs_exec.v0+json": {
              "id": "1189"
            }
          }
        }
      ]
    },
    {
      "cell_type": "code",
      "metadata": {
        "id": "FqdRLIC2N4uq"
      },
      "source": [
        ""
      ],
      "execution_count": null,
      "outputs": []
    }
  ]
}